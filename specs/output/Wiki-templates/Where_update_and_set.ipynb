{
 "metadata": {
  "kernelspec": {
   "display_name": "iTorch",
   "language": "lua",
   "name": "itorch"
  },
  "language_info": {
   "name": "lua",
   "version": "5.1"
  },
  "name": ""
 },
 "nbformat": 3,
 "nbformat_minor": 0,
 "worksheets": [
  {
   "cells": [
    {
     "cell_type": "heading",
     "level": 1,
     "metadata": {},
     "source": [
      "Load the packages"
     ]
    },
    {
     "cell_type": "code",
     "collapsed": false,
     "input": [
      "require 'torch'\n",
      "require 'Dataframe'"
     ],
     "language": "python",
     "metadata": {},
     "outputs": []
    },
    {
     "cell_type": "heading",
     "level": 1,
     "metadata": {},
     "source": [
      "Load the data"
     ]
    },
    {
     "cell_type": "code",
     "collapsed": false,
     "input": [
      "my_data = Dataframe('../data/realistic_29_row_data.csv')"
     ],
     "language": "python",
     "metadata": {},
     "outputs": []
    },
    {
     "cell_type": "markdown",
     "metadata": {},
     "source": [
      "# Checkout the first couple of rows\n",
      "\n",
      "The simplest example way to have a quick look at the data is to use the `output` together with `head`/`tail` - the simplest form of subsetting"
     ]
    },
    {
     "cell_type": "code",
     "collapsed": false,
     "input": [
      "my_data:head(2):output()\n",
      "my_data:tail(2):output()"
     ],
     "language": "python",
     "metadata": {},
     "outputs": []
    },
    {
     "cell_type": "markdown",
     "metadata": {},
     "source": [
      "# Searching the dataframe\n",
      "\n",
      "The where can be convenient when you want to find a particular subset"
     ]
    },
    {
     "cell_type": "code",
     "collapsed": false,
     "input": [
      "my_data:where('Gender', 'Male'):head(2):output()"
     ],
     "language": "python",
     "metadata": {},
     "outputs": []
    },
    {
     "cell_type": "markdown",
     "metadata": {},
     "source": [
      "More flexible searching is allowed through custom search functions"
     ]
    },
    {
     "cell_type": "code",
     "collapsed": false,
     "input": [
      "my_data:where(function(row) return row.Gender == \"Male\" and row.Weight > 70 end):output()"
     ],
     "language": "python",
     "metadata": {},
     "outputs": []
    },
    {
     "cell_type": "markdown",
     "metadata": {},
     "source": [
      "# Update\n",
      "\n",
      "We can easily update the table using an update function"
     ]
    },
    {
     "cell_type": "code",
     "collapsed": false,
     "input": [
      "my_data:\n",
      "    update(\n",
      "        function(row) return row.Weight > 88 end,\n",
      "        function(row)\n",
      "            row.Weight = 88\n",
      "            return row\n",
      "        end)\n",
      "\n",
      "my_data:\n",
      "    where(function(row) return row.Gender == \"Male\" and row.Weight > 70 end):\n",
      "    output()"
     ],
     "language": "python",
     "metadata": {},
     "outputs": []
    },
    {
     "cell_type": "markdown",
     "metadata": {},
     "source": [
      "# The set function\n",
      "\n",
      "Closely related to the update is the simpler set function"
     ]
    },
    {
     "cell_type": "code",
     "collapsed": false,
     "input": [
      "my_data:\n",
      "    set{item_to_find = 55.5, \n",
      "        column_name = 'Weight', \n",
      "        new_value = Df_Dict({Gender = \"Female\"})}\n",
      "\n",
      "my_data:\n",
      "    where(function(row) return row.Gender == \"Female\" and row.Weight < 60 end):\n",
      "    output()"
     ],
     "language": "python",
     "metadata": {},
     "outputs": []
    },
    {
     "cell_type": "code",
     "collapsed": true,
     "input": [],
     "language": "python",
     "metadata": {},
     "outputs": []
    }
   ],
   "metadata": {}
  }
 ]
}