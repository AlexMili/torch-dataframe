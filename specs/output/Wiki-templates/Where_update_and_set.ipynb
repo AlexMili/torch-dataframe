{
 "cells": [
  {
   "cell_type": "markdown",
   "metadata": {},
   "source": [
    "# Load the packages"
   ]
  },
  {
   "cell_type": "code",
   "execution_count": 12,
   "metadata": {
    "collapsed": false
   },
   "outputs": [],
   "source": [
    "require 'torch'\n",
    "require 'Dataframe'"
   ]
  },
  {
   "cell_type": "markdown",
   "metadata": {},
   "source": [
    "# Load the data"
   ]
  },
  {
   "cell_type": "code",
   "execution_count": 14,
   "metadata": {
    "collapsed": false
   },
   "outputs": [],
   "source": [
    "my_data = Dataframe('../data/realistic_29_row_data.csv')"
   ]
  },
  {
   "cell_type": "markdown",
   "metadata": {},
   "source": [
    "# Checkout the first couple of rows\n",
    "\n",
    "The simplest example way to have a quick look at the data is to use the `output` together with `head`/`tail` - the simplest form of subsetting"
   ]
  },
  {
   "cell_type": "code",
   "execution_count": 18,
   "metadata": {
    "collapsed": false
   },
   "outputs": [
    {
     "data": {
      "text/html": [
       "<script type=\"text/javascript\">\n",
       "  $(function() {\n",
       "    $(\"#bb1614d0-945b-49bc-c939-478134e839e5\").html('<table>\\n\\t<tr>\\n\\t\\t<th>#</th><th>Filename</th><th>Gender</th><th>Weight</th><th>Comments</th>\\n\\t</tr>\\n\\t<tr>\\n\\t\\t<td>1</td><td>/home/test/wow.png</td><td>Male</td><td>55.5</td><td>nan</td>\\n\\t</tr>\\n\\t<tr>\\n\\t\\t<td>2</td><td>/home/test/wow2.png</td><td>Female</td><td>77</td><td>Lorem ipsum dolor sit amet, consectetur adipiscing elit, sed do eiusmod tempor incididunt ut labore et dolore magna aliqua. Ut enim ad minim veniam, quis nostrud ex</td>\\n\\t</tr>\\n</table>'); // clear any previous plot in window_id     \n",
       "  });\n",
       "</script>\n",
       "<div id=\"bb1614d0-945b-49bc-c939-478134e839e5\"></div>\n"
      ]
     },
     "metadata": {},
     "output_type": "display_data"
    },
    {
     "data": {
      "text/html": [
       "<script type=\"text/javascript\">\n",
       "  $(function() {\n",
       "    $(\"#6a3bde1f-0946-44d8-c4ae-464b440e8a88\").html('<table>\\n\\t<tr>\\n\\t\\t<th>#</th><th>Filename</th><th>Gender</th><th>Weight</th><th>Comments</th>\\n\\t</tr>\\n\\t<tr>\\n\\t\\t<td>1</td><td>/home/test/wow3.png</td><td>Male</td><td>99</td><td>nan</td>\\n\\t</tr>\\n\\t<tr>\\n\\t\\t<td>2</td><td>/home/test/wow4.png</td><td>Male</td><td>99</td><td>nan</td>\\n\\t</tr>\\n</table>'); // clear any previous plot in window_id     \n",
       "  });\n",
       "</script>\n",
       "<div id=\"6a3bde1f-0946-44d8-c4ae-464b440e8a88\"></div>\n"
      ]
     },
     "metadata": {},
     "output_type": "display_data"
    }
   ],
   "source": [
    "my_data:head(2):output()\n",
    "my_data:tail(2):output()"
   ]
  },
  {
   "cell_type": "markdown",
   "metadata": {
    "collapsed": false
   },
   "source": [
    "# Searching the dataframe\n",
    "\n",
    "The where can be convenient when you want to find a particular subset"
   ]
  },
  {
   "cell_type": "code",
   "execution_count": 20,
   "metadata": {
    "collapsed": false
   },
   "outputs": [
    {
     "data": {
      "text/html": [
       "<script type=\"text/javascript\">\n",
       "  $(function() {\n",
       "    $(\"#54fb40ed-43a2-470e-c73d-0ef9f3665fbd\").html('<table>\\n\\t<tr>\\n\\t\\t<th>#</th><th>Filename</th><th>Gender</th><th>Weight</th><th>Comments</th>\\n\\t</tr>\\n\\t<tr>\\n\\t\\t<td>1</td><td>/home/test/wow.png</td><td>Male</td><td>55.5</td><td>nan</td>\\n\\t</tr>\\n\\t<tr>\\n\\t\\t<td>2</td><td>/home/test/wow5.png</td><td>Male</td><td>78</td><td>nan</td>\\n\\t</tr>\\n</table>'); // clear any previous plot in window_id     \n",
       "  });\n",
       "</script>\n",
       "<div id=\"54fb40ed-43a2-470e-c73d-0ef9f3665fbd\"></div>\n"
      ]
     },
     "metadata": {},
     "output_type": "display_data"
    },
    {
     "data": {
      "text/plain": [
       "\n"
      ]
     },
     "execution_count": 20,
     "metadata": {},
     "output_type": "execute_result"
    }
   ],
   "source": [
    "my_data:where('Gender', 'Male'):head(2):output()"
   ]
  },
  {
   "cell_type": "markdown",
   "metadata": {},
   "source": [
    "More flexible searching is allowed through custom search functions"
   ]
  },
  {
   "cell_type": "code",
   "execution_count": 24,
   "metadata": {
    "collapsed": false
   },
   "outputs": [
    {
     "data": {
      "text/html": [
       "<script type=\"text/javascript\">\n",
       "  $(function() {\n",
       "    $(\"#646beeb2-f4a7-41fc-c111-cf6af0eff6d8\").html('<table>\\n\\t<tr>\\n\\t\\t<th>#</th><th>Filename</th><th>Gender</th><th>Weight</th><th>Comments</th>\\n\\t</tr>\\n\\t<tr>\\n\\t\\t<td>1</td><td>/home/test/wow5.png</td><td>Male</td><td>78</td><td>nan</td>\\n\\t</tr>\\n\\t<tr>\\n\\t\\t<td>2</td><td>/home/test/wow4.png</td><td>Male</td><td>89</td><td>Lorem ipsum dolor sit amet, consectetur adipiscing elit, sed do eiusmod tempor incididunt ut labore et dolore magna aliqua. Ut enim ad minim veniam, quis nostrud ex</td>\\n\\t</tr>\\n\\t<tr>\\n\\t\\t<td>3</td><td>/home/test/wow3.png</td><td>Male</td><td>87</td><td></td>\\n\\t</tr>\\n\\t<tr>\\n\\t\\t<td>4</td><td>/home/test/wow4.png</td><td>Male</td><td>76</td><td></td>\\n\\t</tr>\\n\\t<tr>\\n\\t\\t<td>5</td><td>/home/test/wow5.png</td><td>Male</td><td>88</td><td></td>\\n\\t</tr>\\n\\t<tr>\\n\\t\\t<td>6</td><td>/home/test/wow2.png</td><td>Male</td><td>99</td><td></td>\\n\\t</tr>\\n\\t<tr>\\n\\t\\t<td>7</td><td>/home/test/wow2.png</td><td>Male</td><td>88</td><td></td>\\n\\t</tr>\\n\\t<tr>\\n\\t\\t<td>8</td><td>/home/test/wow3.png</td><td>Male</td><td>99</td><td></td>\\n\\t</tr>\\n\\t<tr>\\n\\t\\t<td>9</td><td>/home/test/wow4.png</td><td>Male</td><td>99</td><td></td>\\n\\t</tr>\\n</table>'); // clear any previous plot in window_id     \n",
       "  });\n",
       "</script>\n",
       "<div id=\"646beeb2-f4a7-41fc-c111-cf6af0eff6d8\"></div>\n"
      ]
     },
     "metadata": {},
     "output_type": "display_data"
    },
    {
     "data": {
      "text/plain": [
       "\n"
      ]
     },
     "execution_count": 24,
     "metadata": {},
     "output_type": "execute_result"
    }
   ],
   "source": [
    "my_data:where(function(row) return row.Gender == \"Male\" and row.Weight > 70 end):output()"
   ]
  },
  {
   "cell_type": "markdown",
   "metadata": {},
   "source": [
    "# Update\n",
    "\n",
    "We can easily update the table using an update function"
   ]
  },
  {
   "cell_type": "code",
   "execution_count": 32,
   "metadata": {
    "collapsed": false
   },
   "outputs": [
    {
     "data": {
      "text/html": [
       "<script type=\"text/javascript\">\n",
       "  $(function() {\n",
       "    $(\"#003a2821-2281-4bb6-cb26-fed19c8bdf36\").html('<table>\\n\\t<tr>\\n\\t\\t<th>#</th><th>Filename</th><th>Gender</th><th>Weight</th><th>Comments</th>\\n\\t</tr>\\n\\t<tr>\\n\\t\\t<td>1</td><td>/home/test/wow5.png</td><td>Male</td><td>78</td><td>nan</td>\\n\\t</tr>\\n\\t<tr>\\n\\t\\t<td>2</td><td>/home/test/wow4.png</td><td>Male</td><td>88</td><td>Lorem ipsum dolor sit amet, consectetur adipiscing elit, sed do eiusmod tempor incididunt ut labore et dolore magna aliqua. Ut enim ad minim veniam, quis nostrud ex</td>\\n\\t</tr>\\n\\t<tr>\\n\\t\\t<td>3</td><td>/home/test/wow3.png</td><td>Male</td><td>87</td><td></td>\\n\\t</tr>\\n\\t<tr>\\n\\t\\t<td>4</td><td>/home/test/wow4.png</td><td>Male</td><td>76</td><td></td>\\n\\t</tr>\\n\\t<tr>\\n\\t\\t<td>5</td><td>/home/test/wow5.png</td><td>Male</td><td>88</td><td></td>\\n\\t</tr>\\n\\t<tr>\\n\\t\\t<td>6</td><td>/home/test/wow2.png</td><td>Male</td><td>88</td><td></td>\\n\\t</tr>\\n\\t<tr>\\n\\t\\t<td>7</td><td>/home/test/wow2.png</td><td>Male</td><td>88</td><td></td>\\n\\t</tr>\\n\\t<tr>\\n\\t\\t<td>8</td><td>/home/test/wow3.png</td><td>Male</td><td>88</td><td></td>\\n\\t</tr>\\n\\t<tr>\\n\\t\\t<td>9</td><td>/home/test/wow4.png</td><td>Male</td><td>88</td><td></td>\\n\\t</tr>\\n</table>'); // clear any previous plot in window_id     \n",
       "  });\n",
       "</script>\n",
       "<div id=\"003a2821-2281-4bb6-cb26-fed19c8bdf36\"></div>\n"
      ]
     },
     "metadata": {},
     "output_type": "display_data"
    }
   ],
   "source": [
    "my_data:\n",
    "    update(\n",
    "        function(row) return row.Weight > 88 end,\n",
    "        function(row)\n",
    "            row.Weight = 88\n",
    "            return row\n",
    "        end)\n",
    "\n",
    "my_data:\n",
    "    where(function(row) return row.Gender == \"Male\" and row.Weight > 70 end):\n",
    "    output()"
   ]
  },
  {
   "cell_type": "markdown",
   "metadata": {},
   "source": [
    "# The set function\n",
    "\n",
    "Closely related to the update is the simpler set function"
   ]
  },
  {
   "cell_type": "code",
   "execution_count": 36,
   "metadata": {
    "collapsed": false
   },
   "outputs": [
    {
     "data": {
      "text/html": [
       "<script type=\"text/javascript\">\n",
       "  $(function() {\n",
       "    $(\"#3fa8ca6a-0825-414d-c166-dadcf7638543\").html('<table>\\n\\t<tr>\\n\\t\\t<th>#</th><th>Filename</th><th>Gender</th><th>Weight</th><th>Comments</th>\\n\\t</tr>\\n\\t<tr>\\n\\t\\t<td>1</td><td>/home/test/wow.png</td><td>Female</td><td>55.5</td><td>nan</td>\\n\\t</tr>\\n\\t<tr>\\n\\t\\t<td>2</td><td>/home/test/wow5.png</td><td>Female</td><td>57</td><td>nan</td>\\n\\t</tr>\\n\\t<tr>\\n\\t\\t<td>3</td><td>/home/test/wow4.png</td><td>Female</td><td>44</td><td>nan</td>\\n\\t</tr>\\n\\t<tr>\\n\\t\\t<td>4</td><td>/home/test/wow5.png</td><td>Female</td><td>56</td><td>nan</td>\\n\\t</tr>\\n</table>'); // clear any previous plot in window_id     \n",
       "  });\n",
       "</script>\n",
       "<div id=\"3fa8ca6a-0825-414d-c166-dadcf7638543\"></div>\n"
      ]
     },
     "metadata": {},
     "output_type": "display_data"
    }
   ],
   "source": [
    "my_data:\n",
    "    set{item_to_find = 55.5, \n",
    "        column_name = 'Weight', \n",
    "        new_value = Df_Dict({Gender = \"Female\"})}\n",
    "\n",
    "my_data:\n",
    "    where(function(row) return row.Gender == \"Female\" and row.Weight < 60 end):\n",
    "    output()"
   ]
  },
  {
   "cell_type": "code",
   "execution_count": null,
   "metadata": {
    "collapsed": true
   },
   "outputs": [],
   "source": []
  }
 ],
 "metadata": {
  "kernelspec": {
   "display_name": "iTorch",
   "language": "lua",
   "name": "itorch"
  },
  "language_info": {
   "name": "lua",
   "version": "5.1"
  }
 },
 "nbformat": 4,
 "nbformat_minor": 0
}
