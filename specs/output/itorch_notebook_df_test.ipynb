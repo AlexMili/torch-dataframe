{
 "metadata": {
  "kernelspec": {
   "display_name": "iTorch",
   "language": "lua",
   "name": "itorch"
  },
  "language_info": {
   "name": "lua",
   "version": "5.1"
  },
  "name": ""
 },
 "nbformat": 3,
 "nbformat_minor": 0,
 "worksheets": [
  {
   "cells": [
    {
     "cell_type": "code",
     "collapsed": false,
     "input": [
      "require 'torch'\n",
      "require 'lfs'\n",
      "\n",
      "-- Make sure that directory structure is always the same\n",
      "if (string.match(lfs.currentdir(), \"/specs/output$\")) then\n",
      "  lfs.chdir(\"../..\")\n",
      "end\n",
      "\n",
      "paths.dofile(lfs.currentdir() .. '/init.lua')\n",
      "\n",
      "-- Go into tests so that the loading of CSV:s is the same as always\n",
      "lfs.chdir(\"./specs/\")"
     ],
     "language": "python",
     "metadata": {},
     "outputs": []
    },
    {
     "cell_type": "code",
     "collapsed": false,
     "input": [
      "itorch ~= nil"
     ],
     "language": "python",
     "metadata": {},
     "outputs": []
    },
    {
     "cell_type": "code",
     "collapsed": false,
     "input": [
      "-- A quick way to get a feeling for how the __tostring method works\n",
      "a = Dataframe('./data/simple_short.csv')"
     ],
     "language": "python",
     "metadata": {},
     "outputs": []
    },
    {
     "cell_type": "code",
     "collapsed": false,
     "input": [
      "print(\"-- Regular print with a Dataframe --\")\n",
      "print(a)"
     ],
     "language": "python",
     "metadata": {},
     "outputs": []
    },
    {
     "cell_type": "code",
     "collapsed": false,
     "input": [
      "print(\"  -- Check regular table --  \")\n",
      "print({1, 2, 3, {1,2,3, {4,5,6}}})"
     ],
     "language": "python",
     "metadata": {},
     "outputs": []
    },
    {
     "cell_type": "code",
     "collapsed": false,
     "input": [
      "print(\"-- Long table --\")\n",
      "local a = Dataframe()\n",
      "a:load_csv{path = \"data/realistic_29_row_data.csv\",\n",
      "           verbose = false}\n",
      "\n",
      "math.randomseed(10)\n",
      "left_right = {}\n",
      "for i = 1,a:shape()[\"rows\"] do\n",
      "  if (math.random() > 0.5) then\n",
      "    table.insert(left_right, \"left\")\n",
      "  else\n",
      "    table.insert(left_right, \"right\")\n",
      "  end\n",
      "end\n",
      "a:add_column(\"Side\", Df_Array(left_right))\n",
      "a:output()"
     ],
     "language": "python",
     "metadata": {},
     "outputs": []
    },
    {
     "cell_type": "code",
     "collapsed": false,
     "input": [
      "local a = Dataframe()\n",
      "a:load_csv{path = \"data/realistic_29_row_data.csv\",\n",
      "           verbose = false}\n",
      "a:as_categorical(\"Gender\")\n",
      "print(\"With set number of digits\")\n",
      "a:output{digits = 1}"
     ],
     "language": "python",
     "metadata": {},
     "outputs": []
    },
    {
     "cell_type": "code",
     "collapsed": true,
     "input": [],
     "language": "python",
     "metadata": {},
     "outputs": []
    }
   ],
   "metadata": {}
  }
 ]
}