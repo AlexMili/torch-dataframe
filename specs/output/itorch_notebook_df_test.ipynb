{
 "cells": [
  {
   "cell_type": "code",
   "execution_count": 1,
   "metadata": {
    "collapsed": false
   },
   "outputs": [],
   "source": [
    "require 'torch'\n",
    "require 'lfs'\n",
    "\n",
    "-- Make sure that directory structure is always the same\n",
    "if (string.match(lfs.currentdir(), \"/specs/output$\")) then\n",
    "  lfs.chdir(\"../..\")\n",
    "end\n",
    "\n",
    "paths.dofile(lfs.currentdir() .. '/init.lua')\n",
    "\n",
    "-- Go into tests so that the loading of CSV:s is the same as always\n",
    "lfs.chdir(\"./specs/\")"
   ]
  },
  {
   "cell_type": "code",
   "execution_count": 2,
   "metadata": {
    "collapsed": false
   },
   "outputs": [
    {
     "data": {
      "text/plain": [
       "true\t\n"
      ]
     },
     "execution_count": 2,
     "metadata": {},
     "output_type": "execute_result"
    }
   ],
   "source": [
    "itorch ~= nil"
   ]
  },
  {
   "cell_type": "code",
   "execution_count": 3,
   "metadata": {
    "collapsed": false
   },
   "outputs": [],
   "source": [
    "-- A quick way to get a feeling for how the __tostring method works\n",
    "a = Dataframe('./data/simple_short.csv')"
   ]
  },
  {
   "cell_type": "code",
   "execution_count": 4,
   "metadata": {
    "collapsed": false
   },
   "outputs": [
    {
     "data": {
      "text/plain": [
       "-- Regular print with a Dataframe --\t\n",
       "\n",
       "+----------------------------+\n",
       "| Col A | Col B |      Col C |\n",
       "+----------------------------+\n",
       "|     1 |   0.2 |       1000 |\n",
       "|     2 |   0.3 |        0.1 |\n",
       "|     3 |   0.4 | 9999999999 |\n",
       "|     4 |   0.5 |       -222 |\n",
       "+----------------------------+\n",
       "\t\n"
      ]
     },
     "execution_count": 4,
     "metadata": {},
     "output_type": "execute_result"
    }
   ],
   "source": [
    "print(\"-- Regular print with a Dataframe --\")\n",
    "print(a)"
   ]
  },
  {
   "cell_type": "code",
   "execution_count": 5,
   "metadata": {
    "collapsed": false
   },
   "outputs": [
    {
     "data": {
      "text/plain": [
       "  -- Check regular table --  \t\n",
       "{\n",
       "  1 : 1\n",
       "  2 : 2\n",
       "  3 : 3\n",
       "  4 : \n",
       "    {\n",
       "      1 : 1\n",
       "      2 : 2\n",
       "      3 : 3\n",
       "      4 : \n",
       "        {\n",
       "          1 : 4\n",
       "          2 : 5\n",
       "          3 : 6\n",
       "        }\n",
       "    }\n",
       "}\n"
      ]
     },
     "execution_count": 5,
     "metadata": {},
     "output_type": "execute_result"
    }
   ],
   "source": [
    "print(\"  -- Check regular table --  \")\n",
    "print({1, 2, 3, {1,2,3, {4,5,6}}})"
   ]
  },
  {
   "cell_type": "code",
   "execution_count": 6,
   "metadata": {
    "collapsed": false
   },
   "outputs": [
    {
     "data": {
      "text/plain": [
       "-- Long table --\t\n"
      ]
     },
     "execution_count": 6,
     "metadata": {},
     "output_type": "execute_result"
    },
    {
     "data": {
      "text/html": [
       "<script type=\"text/javascript\">\n",
       "  $(function() {\n",
       "    $(\"#22dbfada-aae2-441a-c46b-6dc70950604e\").html('<table>\\n\\t<tr>\\n\\t\\t<th>#</th><th>Filename</th><th>Gender</th><th>Weight</th><th>Comments</th><th>Side</th>\\n\\t</tr>\\n\\t<tr>\\n\\t\\t<td><span style=\"font-weight:bold;\">1</span></td><td>/home/test/wow.png</td><td>Male</td><td>55.5</td><td></td><td>left</td>\\n\\t</tr>\\n\\t<tr>\\n\\t\\t<td><span style=\"font-weight:bold;\">2</span></td><td>/home/test/wow2.png</td><td>Female</td><td>77</td><td>Lorem ipsum dolor sit amet, consectetur adipiscing elit, sed do eiusmod tempor incididunt ut labore et dolore magna aliqua. Ut enim ad minim veniam, quis nostrud ex</td><td>right</td>\\n\\t</tr>\\n\\t<tr>\\n\\t\\t<td><span style=\"font-weight:bold;\">3</span></td><td>/home/test/wow3.png</td><td>Female</td><td>66</td><td></td><td>right</td>\\n\\t</tr>\\n\\t<tr>\\n\\t\\t<td><span style=\"font-weight:bold;\">4</span></td><td>/home/test/wow4.png</td><td>Female</td><td>90</td><td></td><td>right</td>\\n\\t</tr>\\n\\t<tr>\\n\\t\\t<td><span style=\"font-weight:bold;\">5</span></td><td>/home/test/wow5.png</td><td>Male</td><td>78</td><td></td><td>left</td>\\n\\t</tr>\\n\\t<tr>\\n\\t\\t<td><span style=\"font-weight:bold;\">6</span></td><td>/home/test/wow2.png</td><td>Male</td><td>55</td><td></td><td>right</td>\\n\\t</tr>\\n\\t<tr>\\n\\t\\t<td><span style=\"font-weight:bold;\">7</span></td><td>/home/test/wow3.png</td><td>Male</td><td>66</td><td></td><td>right</td>\\n\\t</tr>\\n\\t<tr>\\n\\t\\t<td><span style=\"font-weight:bold;\">8</span></td><td>/home/test/wow4.png</td><td>Male</td><td>89</td><td>Lorem ipsum dolor sit amet, consectetur adipiscing elit, sed do eiusmod tempor incididunt ut labore et dolore magna aliqua. Ut enim ad minim veniam, quis nostrud ex</td><td>right</td>\\n\\t</tr>\\n\\t<tr>\\n\\t\\t<td><span style=\"font-weight:bold;\">9</span></td><td>/home/test/wow5.png</td><td>Female</td><td>87</td><td></td><td>right</td>\\n\\t</tr>\\n\\t<tr>\\n\\t\\t<td><span style=\"font-weight:bold;\">10</span></td><td>/home/test/wow2.png</td><td>Female</td><td>67</td><td></td><td>left</td>\\n\\t</tr>\\n\\t<tr>\\n\\t\\t<td><span style=\"font-weight:bold;\">11</span></td><td>/home/test/wow3.png</td><td>Female</td><td>88</td><td></td><td>right</td>\\n\\t</tr>\\n\\t<tr>\\n\\t\\t<td><span style=\"font-weight:bold;\">12</span></td><td>/home/test/wow4.png</td><td>Male</td><td>66</td><td>Lorem ipsum dolor sit amet, consectetur adipiscing elit, sed do eiusmod tempor</td><td>right</td>\\n\\t</tr>\\n\\t<tr>\\n\\t\\t<td><span style=\"font-weight:bold;\">13</span></td><td>/home/test/wow5.png</td><td>Male</td><td>54</td><td></td><td>left</td>\\n\\t</tr>\\n\\t<tr>\\n\\t\\t<td><span style=\"font-weight:bold;\">14</span></td><td>/home/test/wow2.png</td><td>Male</td><td>66</td><td></td><td>right</td>\\n\\t</tr>\\n\\t<tr>\\n\\t\\t<td><span style=\"font-weight:bold;\">15</span></td><td>/home/test/wow3.png</td><td>Male</td><td>87</td><td></td><td>left</td>\\n\\t</tr>\\n\\t<tr>\\n\\t\\t<td><span style=\"font-weight:bold;\">16</span></td><td>/home/test/wow4.png</td><td>Female</td><td>87</td><td>Lorem ipsum </td><td>left</td>\\n\\t</tr>\\n\\t<tr>\\n\\t\\t<td><span style=\"font-weight:bold;\">17</span></td><td>/home/test/wow5.png</td><td>Female</td><td>57</td><td></td><td>left</td>\\n\\t</tr>\\n\\t<tr>\\n\\t\\t<td><span style=\"font-weight:bold;\">18</span></td><td>/home/test/wow2.png</td><td>Female</td><td>67</td><td>Lorem ipsum dolor sit amet, consectetur adipiscing elit, sed do eiusmod tempor incididunt ut labore et dolore magna aliqua. Ut enim ad minim veniam, quis nostrud ex</td><td>left</td>\\n\\t</tr>\\n\\t<tr>\\n\\t\\t<td><span style=\"font-weight:bold;\">19</span></td><td>/home/test/wow3.png</td><td>Male</td><td>55</td><td></td><td>right</td>\\n\\t</tr>\\n\\t<tr>\\n\\t\\t<td><span style=\"font-weight:bold;\">20</span></td><td>/home/test/wow4.png</td><td>Male</td><td>76</td><td></td><td>left</td>\\n\\t</tr>\\n</table>'); // clear any previous plot in window_id     \n",
       "  });\n",
       "</script>\n",
       "<div id=\"22dbfada-aae2-441a-c46b-6dc70950604e\"></div>\n"
      ]
     },
     "metadata": {},
     "output_type": "display_data"
    }
   ],
   "source": [
    "print(\"-- Long table --\")\n",
    "local a = Dataframe()\n",
    "a:load_csv{path = \"data/realistic_29_row_data.csv\",\n",
    "           verbose = false}\n",
    "\n",
    "math.randomseed(10)\n",
    "left_right = {}\n",
    "for i = 1,a:shape()[\"rows\"] do\n",
    "  if (math.random() > 0.5) then\n",
    "    table.insert(left_right, \"left\")\n",
    "  else\n",
    "    table.insert(left_right, \"right\")\n",
    "  end\n",
    "end\n",
    "a:add_column(\"Side\", Df_Array(left_right))\n",
    "a:output()"
   ]
  },
  {
   "cell_type": "code",
   "execution_count": 7,
   "metadata": {
    "collapsed": false
   },
   "outputs": [
    {
     "data": {
      "text/plain": [
       "With set number of digits\t\n"
      ]
     },
     "execution_count": 7,
     "metadata": {},
     "output_type": "execute_result"
    },
    {
     "data": {
      "text/html": [
       "<script type=\"text/javascript\">\n",
       "  $(function() {\n",
       "    $(\"#186f46ed-603e-41b9-c10d-741802b2ce4e\").html('<table>\\n\\t<tr>\\n\\t\\t<th>#</th><th>Filename</th><th>Gender</th><th>Weight</th><th>Comments</th>\\n\\t</tr>\\n\\t<tr>\\n\\t\\t<td><span style=\"font-weight:bold;\">1</span></td><td>/home/test/wow.png</td><td>Male</td><td>55.5</td><td></td>\\n\\t</tr>\\n\\t<tr>\\n\\t\\t<td><span style=\"font-weight:bold;\">2</span></td><td>/home/test/wow2.png</td><td>Female</td><td>77</td><td>Lorem ipsum dolor sit amet, consectetur adipiscing elit, sed do eiusmod tempor incididunt ut labore et dolore magna aliqua. Ut enim ad minim veniam, quis nostrud ex</td>\\n\\t</tr>\\n\\t<tr>\\n\\t\\t<td><span style=\"font-weight:bold;\">3</span></td><td>/home/test/wow3.png</td><td>Female</td><td>66</td><td></td>\\n\\t</tr>\\n\\t<tr>\\n\\t\\t<td><span style=\"font-weight:bold;\">4</span></td><td>/home/test/wow4.png</td><td>Female</td><td>90</td><td></td>\\n\\t</tr>\\n\\t<tr>\\n\\t\\t<td><span style=\"font-weight:bold;\">5</span></td><td>/home/test/wow5.png</td><td>Male</td><td>78</td><td></td>\\n\\t</tr>\\n\\t<tr>\\n\\t\\t<td><span style=\"font-weight:bold;\">6</span></td><td>/home/test/wow2.png</td><td>Male</td><td>55</td><td></td>\\n\\t</tr>\\n\\t<tr>\\n\\t\\t<td><span style=\"font-weight:bold;\">7</span></td><td>/home/test/wow3.png</td><td>Male</td><td>66</td><td></td>\\n\\t</tr>\\n\\t<tr>\\n\\t\\t<td><span style=\"font-weight:bold;\">8</span></td><td>/home/test/wow4.png</td><td>Male</td><td>89</td><td>Lorem ipsum dolor sit amet, consectetur adipiscing elit, sed do eiusmod tempor incididunt ut labore et dolore magna aliqua. Ut enim ad minim veniam, quis nostrud ex</td>\\n\\t</tr>\\n\\t<tr>\\n\\t\\t<td><span style=\"font-weight:bold;\">9</span></td><td>/home/test/wow5.png</td><td>Female</td><td>87</td><td></td>\\n\\t</tr>\\n\\t<tr>\\n\\t\\t<td><span style=\"font-weight:bold;\">10</span></td><td>/home/test/wow2.png</td><td>Female</td><td>67</td><td></td>\\n\\t</tr>\\n\\t<tr>\\n\\t\\t<td><span style=\"font-weight:bold;\">11</span></td><td>/home/test/wow3.png</td><td>Female</td><td>88</td><td></td>\\n\\t</tr>\\n\\t<tr>\\n\\t\\t<td><span style=\"font-weight:bold;\">12</span></td><td>/home/test/wow4.png</td><td>Male</td><td>66</td><td>Lorem ipsum dolor sit amet, consectetur adipiscing elit, sed do eiusmod tempor</td>\\n\\t</tr>\\n\\t<tr>\\n\\t\\t<td><span style=\"font-weight:bold;\">13</span></td><td>/home/test/wow5.png</td><td>Male</td><td>54</td><td></td>\\n\\t</tr>\\n\\t<tr>\\n\\t\\t<td><span style=\"font-weight:bold;\">14</span></td><td>/home/test/wow2.png</td><td>Male</td><td>66</td><td></td>\\n\\t</tr>\\n\\t<tr>\\n\\t\\t<td><span style=\"font-weight:bold;\">15</span></td><td>/home/test/wow3.png</td><td>Male</td><td>87</td><td></td>\\n\\t</tr>\\n\\t<tr>\\n\\t\\t<td><span style=\"font-weight:bold;\">16</span></td><td>/home/test/wow4.png</td><td>Female</td><td>87</td><td>Lorem ipsum </td>\\n\\t</tr>\\n\\t<tr>\\n\\t\\t<td><span style=\"font-weight:bold;\">17</span></td><td>/home/test/wow5.png</td><td>Female</td><td>57</td><td></td>\\n\\t</tr>\\n\\t<tr>\\n\\t\\t<td><span style=\"font-weight:bold;\">18</span></td><td>/home/test/wow2.png</td><td>Female</td><td>67</td><td>Lorem ipsum dolor sit amet, consectetur adipiscing elit, sed do eiusmod tempor incididunt ut labore et dolore magna aliqua. Ut enim ad minim veniam, quis nostrud ex</td>\\n\\t</tr>\\n\\t<tr>\\n\\t\\t<td><span style=\"font-weight:bold;\">19</span></td><td>/home/test/wow3.png</td><td>Male</td><td>55</td><td></td>\\n\\t</tr>\\n\\t<tr>\\n\\t\\t<td><span style=\"font-weight:bold;\">20</span></td><td>/home/test/wow4.png</td><td>Male</td><td>76</td><td></td>\\n\\t</tr>\\n</table>'); // clear any previous plot in window_id     \n",
       "  });\n",
       "</script>\n",
       "<div id=\"186f46ed-603e-41b9-c10d-741802b2ce4e\"></div>\n"
      ]
     },
     "metadata": {},
     "output_type": "display_data"
    }
   ],
   "source": [
    "local a = Dataframe()\n",
    "a:load_csv{path = \"data/realistic_29_row_data.csv\",\n",
    "           verbose = false}\n",
    "a:as_categorical(\"Gender\")\n",
    "print(\"With set number of digits\")\n",
    "a:output{digits = 1}"
   ]
  },
  {
   "cell_type": "code",
   "execution_count": null,
   "metadata": {
    "collapsed": true
   },
   "outputs": [],
   "source": []
  }
 ],
 "metadata": {
  "kernelspec": {
   "display_name": "iTorch",
   "language": "lua",
   "name": "itorch"
  },
  "language_info": {
   "name": "lua",
   "version": "5.1"
  }
 },
 "nbformat": 4,
 "nbformat_minor": 0
}
