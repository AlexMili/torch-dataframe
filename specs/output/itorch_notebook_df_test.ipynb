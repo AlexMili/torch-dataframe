{
 "cells": [
  {
   "cell_type": "code",
   "execution_count": 1,
   "metadata": {
    "collapsed": false
   },
   "outputs": [],
   "source": [
    "require 'torch'\n",
    "require 'lfs'\n",
    "\n",
    "-- Make sure that directory structure is always the same\n",
    "if (string.match(lfs.currentdir(), \"/specs/output$\")) then\n",
    "  lfs.chdir(\"../..\")\n",
    "end\n",
    "\n",
    "paths.dofile(lfs.currentdir() .. '/init.lua')\n",
    "\n",
    "-- Go into tests so that the loading of CSV:s is the same as always\n",
    "lfs.chdir(\"./specs/\")"
   ]
  },
  {
   "cell_type": "code",
   "execution_count": 2,
   "metadata": {
    "collapsed": false
   },
   "outputs": [
    {
     "data": {
      "text/plain": [
       "-- Simple table --\t\n"
      ]
     },
     "execution_count": 2,
     "metadata": {},
     "output_type": "execute_result"
    },
    {
     "data": {
      "text/plain": [
       "  -- regular print\t\n",
       "\n",
       "+----------------------------+\n",
       "| Col A | Col B |      Col C |\n",
       "+----------------------------+\n",
       "|     1 |   0.2 |       1000 |\n",
       "|     2 |   0.3 |        0.1 |\n",
       "|     3 |   0.4 | 9999999999 |\n",
       "|     4 |   0.5 |       -222 |\n",
       "+----------------------------+\n",
       "\n",
       "{\n",
       "  print : \n",
       "    {\n",
       "      no_rows : 10\n",
       "      max_col_width : 20\n",
       "    }\n",
       "  column_order : \n",
       "    {\n",
       "      1 : Col A\n",
       "      2 : Col B\n",
       "      3 : Col C\n",
       "    }\n",
       " "
      ]
     },
     "execution_count": 2,
     "metadata": {},
     "output_type": "execute_result"
    },
    {
     "data": {
      "text/html": [
       "<script type=\"text/javascript\">\n",
       "  $(function() {\n",
       "    $(\"#0f817134-8a06-4a03-ca81-ef30cfe9a750\").html('<table>\\n\\t<tr>\\n\\t\\t<th>#</th><th>Col A</th><th>Col B</th><th>Col C</th>\\n\\t</tr>\\n\\t<tr>\\n\\t\\t<td>1</td><td>1</td><td>0.2</td><td>1000</td>\\n\\t</tr>\\n\\t<tr>\\n\\t\\t<td>2</td><td>2</td><td>0.3</td><td>0.1</td>\\n\\t</tr>\\n\\t<tr>\\n\\t\\t<td>3</td><td>3</td><td>0.4</td><td>9999999999</td>\\n\\t</tr>\\n\\t<tr>\\n\\t\\t<td>4</td><td>4</td><td>0.5</td><td>-222</td>\\n\\t</tr>\\n</table>'); // clear any previous plot in window_id     \n",
       "  });\n",
       "</script>\n",
       "<div id=\"0f817134-8a06-4a03-ca81-ef30cfe9a750\"></div>\n"
      ]
     },
     "metadata": {},
     "output_type": "display_data"
    },
    {
     "data": {
      "text/plain": [
       " schema : \n",
       "    {\n",
       "      Col C : number\n",
       "      Col B : number\n",
       "      Col A : number\n",
       "    }\n",
       "  categorical : table: 0x41497080\n",
       "  dataset : \n",
       "    {\n",
       "      Col C : \n",
       "        {\n",
       "          1 : 1000\n",
       "          2 : 0.1\n",
       "          3 : 9999999999\n",
       "          4 : -222\n",
       "        }\n",
       "      Col B : \n",
       "        {\n",
       "          1 : 0.2\n",
       "          2 : 0.3\n",
       "          3 : 0.4\n",
       "          4 : 0.5\n",
       "        }\n",
       "      Col A : \n",
       "        {\n",
       "          1 : 1\n",
       "          2 : 2\n",
       "          3 : 3\n",
       "          4 : 4\n",
       "        }\n",
       "    }\n",
       "  n_rows : 4\n",
       "  columns : \n",
       "    {\n",
       "      1 : Col C\n",
       "      2 : Col B\n",
       "      3 : Col A\n",
       "    }\n",
       "}\n"
      ]
     },
     "execution_count": 2,
     "metadata": {},
     "output_type": "execute_result"
    }
   ],
   "source": [
    "-- A quick way to get a feeling for how the __tostring method works\n",
    "local a = Dataframe()\n",
    "a:load_csv{path = 'data/simple_short.csv',\n",
    "           verbose = false}\n",
    "print(\"-- Simple table --\")\n",
    "a:output()\n",
    "\n",
    "print(\"  -- regular print\")\n",
    "print(a)\n"
   ]
  },
  {
   "cell_type": "code",
   "execution_count": 3,
   "metadata": {
    "collapsed": false
   },
   "outputs": [
    {
     "data": {
      "text/plain": [
       "-- Long table --\t\n"
      ]
     },
     "execution_count": 3,
     "metadata": {},
     "output_type": "execute_result"
    },
    {
     "data": {
      "text/html": [
       "<script type=\"text/javascript\">\n",
       "  $(function() {\n",
       "    $(\"#22dbfada-aae2-441a-c46b-6dc70950604e\").html('<table>\\n\\t<tr>\\n\\t\\t<th>#</th><th>Filename</th><th>Gender</th><th>Weight</th><th>Comments</th><th>Side</th>\\n\\t</tr>\\n\\t<tr>\\n\\t\\t<td>1</td><td>/home/test/wow.png</td><td>Male</td><td>55.5</td><td>nan</td><td>left</td>\\n\\t</tr>\\n\\t<tr>\\n\\t\\t<td>2</td><td>/home/test/wow2.png</td><td>Female</td><td>77</td><td>Lorem ipsum dolor sit amet, consectetur adipiscing elit, sed do eiusmod tempor incididunt ut labore et dolore magna aliqua. Ut enim ad minim veniam, quis nostrud ex</td><td>right</td>\\n\\t</tr>\\n\\t<tr>\\n\\t\\t<td>3</td><td>/home/test/wow3.png</td><td>Female</td><td>66</td><td></td><td>right</td>\\n\\t</tr>\\n\\t<tr>\\n\\t\\t<td>4</td><td>/home/test/wow4.png</td><td>Female</td><td>90</td><td></td><td>right</td>\\n\\t</tr>\\n\\t<tr>\\n\\t\\t<td>5</td><td>/home/test/wow5.png</td><td>Male</td><td>78</td><td></td><td>left</td>\\n\\t</tr>\\n\\t<tr>\\n\\t\\t<td>6</td><td>/home/test/wow2.png</td><td>Male</td><td>55</td><td></td><td>right</td>\\n\\t</tr>\\n\\t<tr>\\n\\t\\t<td>7</td><td>/home/test/wow3.png</td><td>Male</td><td>66</td><td></td><td>right</td>\\n\\t</tr>\\n\\t<tr>\\n\\t\\t<td>8</td><td>/home/test/wow4.png</td><td>Male</td><td>89</td><td>Lorem ipsum dolor sit amet, consectetur adipiscing elit, sed do eiusmod tempor incididunt ut labore et dolore magna aliqua. Ut enim ad minim veniam, quis nostrud ex</td><td>right</td>\\n\\t</tr>\\n\\t<tr>\\n\\t\\t<td>9</td><td>/home/test/wow5.png</td><td>Female</td><td>87</td><td></td><td>right</td>\\n\\t</tr>\\n\\t<tr>\\n\\t\\t<td>10</td><td>/home/test/wow2.png</td><td>Female</td><td>67</td><td></td><td>left</td>\\n\\t</tr>\\n\\t<tr>\\n\\t\\t<td>11</td><td>/home/test/wow3.png</td><td>Female</td><td>88</td><td></td><td>right</td>\\n\\t</tr>\\n\\t<tr>\\n\\t\\t<td>12</td><td>/home/test/wow4.png</td><td>Male</td><td>66</td><td>Lorem ipsum dolor sit amet, consectetur adipiscing elit, sed do eiusmod tempor</td><td>right</td>\\n\\t</tr>\\n\\t<tr>\\n\\t\\t<td>13</td><td>/home/test/wow5.png</td><td>Male</td><td>54</td><td></td><td>left</td>\\n\\t</tr>\\n\\t<tr>\\n\\t\\t<td>14</td><td>/home/test/wow2.png</td><td>Male</td><td>66</td><td></td><td>right</td>\\n\\t</tr>\\n\\t<tr>\\n\\t\\t<td>15</td><td>/home/test/wow3.png</td><td>Male</td><td>87</td><td></td><td>left</td>\\n\\t</tr>\\n\\t<tr>\\n\\t\\t<td>16</td><td>/home/test/wow4.png</td><td>Female</td><td>87</td><td>Lorem ipsum </td><td>left</td>\\n\\t</tr>\\n\\t<tr>\\n\\t\\t<td>17</td><td>/home/test/wow5.png</td><td>Female</td><td>57</td><td></td><td>left</td>\\n\\t</tr>\\n\\t<tr>\\n\\t\\t<td>18</td><td>/home/test/wow2.png</td><td>Female</td><td>67</td><td>Lorem ipsum dolor sit amet, consectetur adipiscing elit, sed do eiusmod tempor incididunt ut labore et dolore magna aliqua. Ut enim ad minim veniam, quis nostrud ex</td><td>left</td>\\n\\t</tr>\\n\\t<tr>\\n\\t\\t<td>19</td><td>/home/test/wow3.png</td><td>Male</td><td>55</td><td></td><td>right</td>\\n\\t</tr>\\n\\t<tr>\\n\\t\\t<td>20</td><td>/home/test/wow4.png</td><td>Male</td><td>76</td><td></td><td>left</td>\\n\\t</tr>\\n</table>'); // clear any previous plot in window_id     \n",
       "  });\n",
       "</script>\n",
       "<div id=\"22dbfada-aae2-441a-c46b-6dc70950604e\"></div>\n"
      ]
     },
     "metadata": {},
     "output_type": "display_data"
    }
   ],
   "source": [
    "print(\"-- Long table --\")\n",
    "local a = Dataframe()\n",
    "a:load_csv{path = \"data/realistic_29_row_data.csv\",\n",
    "           verbose = false}\n",
    "\n",
    "math.randomseed(10)\n",
    "left_right = {}\n",
    "for i = 1,a:shape()[\"rows\"] do\n",
    "  if (math.random() > 0.5) then\n",
    "    table.insert(left_right, \"left\")\n",
    "  else\n",
    "    table.insert(left_right, \"right\")\n",
    "  end\n",
    "end\n",
    "a:add_column(\"Side\", Df_Array(left_right))\n",
    "a:output()"
   ]
  },
  {
   "cell_type": "code",
   "execution_count": 4,
   "metadata": {
    "collapsed": false
   },
   "outputs": [
    {
     "data": {
      "text/plain": [
       "With set number of digits\t\n"
      ]
     },
     "execution_count": 4,
     "metadata": {},
     "output_type": "execute_result"
    },
    {
     "data": {
      "text/html": [
       "<script type=\"text/javascript\">\n",
       "  $(function() {\n",
       "    $(\"#186f46ed-603e-41b9-c10d-741802b2ce4e\").html('<table>\\n\\t<tr>\\n\\t\\t<th>#</th><th>Filename</th><th>Gender</th><th>Weight</th><th>Comments</th>\\n\\t</tr>\\n\\t<tr>\\n\\t\\t<td>1</td><td>/home/test/wow.png</td><td>Male</td><td>55.5</td><td>nan</td>\\n\\t</tr>\\n\\t<tr>\\n\\t\\t<td>2</td><td>/home/test/wow2.png</td><td>Female</td><td>77</td><td>Lorem ipsum dolor sit amet, consectetur adipiscing elit, sed do eiusmod tempor incididunt ut labore et dolore magna aliqua. Ut enim ad minim veniam, quis nostrud ex</td>\\n\\t</tr>\\n\\t<tr>\\n\\t\\t<td>3</td><td>/home/test/wow3.png</td><td>Female</td><td>66</td><td></td>\\n\\t</tr>\\n\\t<tr>\\n\\t\\t<td>4</td><td>/home/test/wow4.png</td><td>Female</td><td>90</td><td></td>\\n\\t</tr>\\n\\t<tr>\\n\\t\\t<td>5</td><td>/home/test/wow5.png</td><td>Male</td><td>78</td><td></td>\\n\\t</tr>\\n\\t<tr>\\n\\t\\t<td>6</td><td>/home/test/wow2.png</td><td>Male</td><td>55</td><td></td>\\n\\t</tr>\\n\\t<tr>\\n\\t\\t<td>7</td><td>/home/test/wow3.png</td><td>Male</td><td>66</td><td></td>\\n\\t</tr>\\n\\t<tr>\\n\\t\\t<td>8</td><td>/home/test/wow4.png</td><td>Male</td><td>89</td><td>Lorem ipsum dolor sit amet, consectetur adipiscing elit, sed do eiusmod tempor incididunt ut labore et dolore magna aliqua. Ut enim ad minim veniam, quis nostrud ex</td>\\n\\t</tr>\\n\\t<tr>\\n\\t\\t<td>9</td><td>/home/test/wow5.png</td><td>Female</td><td>87</td><td></td>\\n\\t</tr>\\n\\t<tr>\\n\\t\\t<td>10</td><td>/home/test/wow2.png</td><td>Female</td><td>67</td><td></td>\\n\\t</tr>\\n\\t<tr>\\n\\t\\t<td>11</td><td>/home/test/wow3.png</td><td>Female</td><td>88</td><td></td>\\n\\t</tr>\\n\\t<tr>\\n\\t\\t<td>12</td><td>/home/test/wow4.png</td><td>Male</td><td>66</td><td>Lorem ipsum dolor sit amet, consectetur adipiscing elit, sed do eiusmod tempor</td>\\n\\t</tr>\\n\\t<tr>\\n\\t\\t<td>13</td><td>/home/test/wow5.png</td><td>Male</td><td>54</td><td></td>\\n\\t</tr>\\n\\t<tr>\\n\\t\\t<td>14</td><td>/home/test/wow2.png</td><td>Male</td><td>66</td><td></td>\\n\\t</tr>\\n\\t<tr>\\n\\t\\t<td>15</td><td>/home/test/wow3.png</td><td>Male</td><td>87</td><td></td>\\n\\t</tr>\\n\\t<tr>\\n\\t\\t<td>16</td><td>/home/test/wow4.png</td><td>Female</td><td>87</td><td>Lorem ipsum </td>\\n\\t</tr>\\n\\t<tr>\\n\\t\\t<td>17</td><td>/home/test/wow5.png</td><td>Female</td><td>57</td><td></td>\\n\\t</tr>\\n\\t<tr>\\n\\t\\t<td>18</td><td>/home/test/wow2.png</td><td>Female</td><td>67</td><td>Lorem ipsum dolor sit amet, consectetur adipiscing elit, sed do eiusmod tempor incididunt ut labore et dolore magna aliqua. Ut enim ad minim veniam, quis nostrud ex</td>\\n\\t</tr>\\n\\t<tr>\\n\\t\\t<td>19</td><td>/home/test/wow3.png</td><td>Male</td><td>55</td><td></td>\\n\\t</tr>\\n\\t<tr>\\n\\t\\t<td>20</td><td>/home/test/wow4.png</td><td>Male</td><td>76</td><td></td>\\n\\t</tr>\\n</table>'); // clear any previous plot in window_id     \n",
       "  });\n",
       "</script>\n",
       "<div id=\"186f46ed-603e-41b9-c10d-741802b2ce4e\"></div>\n"
      ]
     },
     "metadata": {},
     "output_type": "display_data"
    }
   ],
   "source": [
    "local a = Dataframe()\n",
    "a:load_csv{path = \"data/realistic_29_row_data.csv\",\n",
    "           verbose = false}\n",
    "a:as_categorical(\"Gender\")\n",
    "print(\"With set number of digits\")\n",
    "a:output{digits = 1}"
   ]
  },
  {
   "cell_type": "code",
   "execution_count": null,
   "metadata": {
    "collapsed": true
   },
   "outputs": [],
   "source": []
  }
 ],
 "metadata": {
  "kernelspec": {
   "display_name": "iTorch",
   "language": "lua",
   "name": "itorch"
  },
  "language_info": {
   "name": "lua",
   "version": "5.1"
  }
 },
 "nbformat": 4,
 "nbformat_minor": 0
}
